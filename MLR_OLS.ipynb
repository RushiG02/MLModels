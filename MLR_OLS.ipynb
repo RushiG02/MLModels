{
  "nbformat": 4,
  "nbformat_minor": 0,
  "metadata": {
    "colab": {
      "name": "MLR-OLS.ipynb",
      "version": "0.3.2",
      "provenance": [],
      "include_colab_link": true
    },
    "kernelspec": {
      "name": "python3",
      "display_name": "Python 3"
    }
  },
  "cells": [
    {
      "cell_type": "markdown",
      "metadata": {
        "id": "view-in-github",
        "colab_type": "text"
      },
      "source": [
        "<a href=\"https://colab.research.google.com/github/akiwelekar/MLModels/blob/master/MLR_OLS.ipynb\" target=\"_parent\"><img src=\"https://colab.research.google.com/assets/colab-badge.svg\" alt=\"Open In Colab\"/></a>"
      ]
    },
    {
      "cell_type": "code",
      "metadata": {
        "id": "q1GULaKoLbS7",
        "colab_type": "code",
        "colab": {
          "base_uri": "https://localhost:8080/",
          "height": 478
        },
        "outputId": "58fce7fc-dbbd-4808-e660-306b1419f377"
      },
      "source": [
        "import numpy as np\n",
        "x = np.array([[1,15,72],\n",
        "             [1,22,88],\n",
        "             [1,16,92],\n",
        "             [1,18,78],\n",
        "             [1,30,88]])\n",
        "y=np.array([[55],\n",
        "            [68],\n",
        "            [62],\n",
        "            [65],\n",
        "            [72]])\n",
        "print(x)\n",
        "print(y)\n",
        "\n",
        "xt = x.transpose()\n",
        "print(xt)\n",
        "s1= xt.dot(x)\n",
        "print(s1)\n",
        "s2 = xt.dot(y)\n",
        "print(s2)\n",
        "s3= np.linalg.inv(s1)\n",
        "print (s3)\n",
        "beta= s3.dot(s2)\n",
        "print(beta)\n"
      ],
      "execution_count": 9,
      "outputs": [
        {
          "output_type": "stream",
          "text": [
            "[[ 1 15 72]\n",
            " [ 1 22 88]\n",
            " [ 1 16 92]\n",
            " [ 1 18 78]\n",
            " [ 1 30 88]]\n",
            "[[55]\n",
            " [68]\n",
            " [62]\n",
            " [65]\n",
            " [72]]\n",
            "[[ 1  1  1  1  1]\n",
            " [15 22 16 18 30]\n",
            " [72 88 92 78 88]]\n",
            "[[    5   101   418]\n",
            " [  101  2189  8532]\n",
            " [  418  8532 35220]]\n",
            "[[  322]\n",
            " [ 6643]\n",
            " [27054]]\n",
            "[[ 2.59636640e+01  5.52644921e-02 -3.21531181e-01]\n",
            " [ 5.52644921e-02  8.30536710e-03 -2.66785775e-03]\n",
            " [-3.21531181e-01 -2.66785775e-03  4.49069268e-03]]\n",
            "[[28.71725537]\n",
            " [ 0.79149666]\n",
            " [ 0.23558029]]\n"
          ],
          "name": "stdout"
        }
      ]
    }
  ]
}