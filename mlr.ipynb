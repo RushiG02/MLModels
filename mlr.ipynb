{
  "nbformat": 4,
  "nbformat_minor": 0,
  "metadata": {
    "colab": {
      "name": "mlr.ipynb",
      "version": "0.3.2",
      "provenance": [],
      "include_colab_link": true
    },
    "kernelspec": {
      "name": "python3",
      "display_name": "Python 3"
    }
  },
  "cells": [
    {
      "cell_type": "markdown",
      "metadata": {
        "id": "view-in-github",
        "colab_type": "text"
      },
      "source": [
        "<a href=\"https://colab.research.google.com/github/akiwelekar/MLModels/blob/master/mlr.ipynb\" target=\"_parent\"><img src=\"https://colab.research.google.com/assets/colab-badge.svg\" alt=\"Open In Colab\"/></a>"
      ]
    },
    {
      "cell_type": "code",
      "metadata": {
        "id": "pqZr343zKswl",
        "colab_type": "code",
        "colab": {
          "base_uri": "https://localhost:8080/",
          "height": 183
        },
        "outputId": "29ede8f0-af6f-433f-d39f-9fa276b1c72f"
      },
      "source": [
        "import numpy as np\n",
        "x = np.array([[1,15,0.75,55],\n",
        "              [1,26,0.8,45],\n",
        "              [1,16,0.85,75],\n",
        "               [1,18,0.88,50],\n",
        "               [1,30,0.94,65]])\n",
        "y= [[55],\n",
        "    [68],\n",
        "    [62],\n",
        "    [65],\n",
        "    [72]]\n",
        "\n",
        "\n",
        "print(x)\n",
        "\n",
        "xt = x.transpose()\n",
        "a= xt.dot(x)\n",
        "ainv = np.linalg.inv(a)\n",
        "b= ainv.dot(xt)\n",
        "beta= b.dot(y)\n",
        "\n",
        "print(beta)"
      ],
      "execution_count": 15,
      "outputs": [
        {
          "output_type": "stream",
          "text": [
            "[[ 1.   15.    0.75 55.  ]\n",
            " [ 1.   26.    0.8  45.  ]\n",
            " [ 1.   16.    0.85 75.  ]\n",
            " [ 1.   18.    0.88 50.  ]\n",
            " [ 1.   30.    0.94 65.  ]]\n",
            "[[19.31747461]\n",
            " [ 0.58141833]\n",
            " [44.16388445]\n",
            " [-0.07588928]]\n"
          ],
          "name": "stdout"
        }
      ]
    },
    {
      "cell_type": "code",
      "metadata": {
        "id": "j2joGgvngrW6",
        "colab_type": "code",
        "colab": {}
      },
      "source": [
        ""
      ],
      "execution_count": 0,
      "outputs": []
    }
  ]
}