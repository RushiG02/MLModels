{
  "nbformat": 4,
  "nbformat_minor": 0,
  "metadata": {
    "colab": {
      "name": "Untitled18.ipynb",
      "version": "0.3.2",
      "provenance": [],
      "include_colab_link": true
    },
    "kernelspec": {
      "name": "python3",
      "display_name": "Python 3"
    }
  },
  "cells": [
    {
      "cell_type": "markdown",
      "metadata": {
        "id": "view-in-github",
        "colab_type": "text"
      },
      "source": [
        "<a href=\"https://colab.research.google.com/github/akiwelekar/MLModels/blob/master/RegressionWithGradientDescent.ipynb\" target=\"_parent\"><img src=\"https://colab.research.google.com/assets/colab-badge.svg\" alt=\"Open In Colab\"/></a>"
      ]
    },
    {
      "cell_type": "code",
      "metadata": {
        "id": "ZvwaqW4Kpo6m",
        "colab_type": "code",
        "colab": {
          "base_uri": "https://localhost:8080/",
          "height": 35
        },
        "outputId": "6ce8e71d-bfb9-445f-88b4-b39fda46fd2a"
      },
      "source": [
        "import numpy as np\n",
        "mse_marks = np.array([15,22,16,18,30])\n",
        "ese_marks = np.array([55,68,62,65,72])\n",
        "\n",
        "\n",
        "m= 0\n",
        "c =0\n",
        "l =0.0001\n",
        "epochs =100000\n",
        "\n",
        "n = float(len(mse_marks)) # Number of elements in X\n",
        "\n",
        "# Performing Gradient Descent \n",
        "for i in range(epochs): \n",
        "    pred = m*mse_marks + c  # The current predicted value of Y\n",
        "    D_m = (-2/n) * sum(mse_marks * (ese_marks - pred))  # Derivative wrt m\n",
        "    D_c = (-2/n) * sum(ese_marks - pred)  # Derivative wrt c\n",
        "    m = m - l * D_m  # Update m\n",
        "    c = c - l * D_c  # Update c\n",
        "    \n",
        "print (m, c)\n",
        "\n"
      ],
      "execution_count": 10,
      "outputs": [
        {
          "output_type": "stream",
          "text": [
            "1.4715147696916988 33.8815577868325\n"
          ],
          "name": "stdout"
        }
      ]
    },
    {
      "cell_type": "code",
      "metadata": {
        "id": "VYLWPH6a46rr",
        "colab_type": "code",
        "colab": {}
      },
      "source": [
        ""
      ],
      "execution_count": 0,
      "outputs": []
    }
  ]
}